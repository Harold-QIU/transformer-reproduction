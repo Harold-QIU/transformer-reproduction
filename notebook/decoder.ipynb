{
 "cells": [
  {
   "cell_type": "code",
   "execution_count": null,
   "metadata": {},
   "outputs": [],
   "source": [
    "import torch\n",
    "from torch import nn\n",
    "from utls import MultiHeadAttention, LayerNorm, PositionwiseFeedForward, TransformerEmbedding, Encoder"
   ]
  },
  {
   "cell_type": "code",
   "execution_count": null,
   "metadata": {},
   "outputs": [],
   "source": [
    "class DecoderLayer(nn.Module):\n",
    "    def __init__(self, embedding_dim, ffn_hidden, n_head, dropout):\n",
    "        super().__init__()\n",
    "        self.attention1 = MultiHeadAttention(embedding_dim, n_head)\n",
    "        self.norm1 = LayerNorm(embedding_dim)\n",
    "        self.dropout1 = nn.Dropout(dropout)\n",
    "        self.cross_attention = MultiHeadAttention(embedding_dim, n_head)\n",
    "        self.norm2 = LayerNorm(embedding_dim)\n",
    "        self.dropout2 = nn.Dropout(dropout)\n",
    "        self.ffn = PositionwiseFeedForward(embedding_dim, ffn_hidden, dropout)\n",
    "        self.norm3 = LayerNorm(embedding_dim)\n",
    "        self.dropout3 = nn.Dropout(dropout)\n",
    "        \n",
    "    def forward(self, dec, enc, trg_mask, src_mask): # target mask & source mask\n",
    "        _x = dec\n",
    "        x = self.attention1(dec, dec, dec, trg_mask)\n",
    "        x = self.dropout1(x)\n",
    "        x = self.norm1(x + _x)\n",
    "        _x = x\n",
    "        x = self.cross_attention(x, enc, enc, src_mask)\n",
    "        x = self.dropout2(x)\n",
    "        x = self.norm2(x + _x)\n",
    "        x = self.ffn(x)\n",
    "        x = self.dropout3(x)\n",
    "        x = self.norm3(x + _x)\n",
    "        return x\n",
    "        "
   ]
  },
  {
   "cell_type": "code",
   "execution_count": null,
   "metadata": {},
   "outputs": [],
   "source": [
    "class Decoder(nn.Module):\n",
    "    def __init__(self, voc_size, embedding_dim, max_len, n_layers, ffn_hidden, n_head, dropout=0.1, device='cpu'):\n",
    "        super().__init__()\n",
    "        self.embedding = TransformerEmbedding(voc_size, embedding_dim, max_len, dropout, device)\n",
    "        self.layers = nn.ModuleList(\n",
    "            [\n",
    "                DecoderLayer(embedding_dim, ffn_hidden, n_head, dropout) for _ in range(n_layers)\n",
    "            ]\n",
    "        ).to(device)\n",
    "        self.fc = nn.Linear(embedding_dim, voc_size).to(device)\n",
    "        \n",
    "    def forward(self, dec, enc, t_mask, s_mask):\n",
    "        dec = self.embedding(dec)\n",
    "        for layer in self.layers:\n",
    "            dec = layer(dec, enc, t_mask, s_mask)\n",
    "        dec = self.fc(dec)\n",
    "        return dec"
   ]
  },
  {
   "cell_type": "code",
   "execution_count": null,
   "metadata": {},
   "outputs": [],
   "source": [
    "device = 'cuda:0'\n",
    "decoder = Decoder(voc_size=5, embedding_dim=512, max_len=8, n_layers=3, ffn_hidden=256, n_head=8, dropout=0.1, device=device)\n",
    "encoder = Encoder(voc_size=5, embedding_dim=512, max_len=8, n_layers=3, ffn_hidden=256, n_head=8, dropout=0.1, device=device)"
   ]
  },
  {
   "cell_type": "code",
   "execution_count": null,
   "metadata": {},
   "outputs": [],
   "source": [
    "x = torch.tensor([[1, 2, 3, 4, 2, 3, 1, 1],\n",
    "                  [2, 3, 4, 1, 0, 0, 0, 0]])\n",
    "\n",
    "enc = encoder(x.to(device), mask=None)\n",
    "dec = torch.tensor([[1, 2, 3, 2, 0, 0, 0, 0], \n",
    "                    [1, 2, 3, 3, 0, 0, 0, 0]])           # Because of the cross-attention, here we need some padding to align the enc and dec\n",
    "dec = decoder(dec.to(device), enc, None, None)"
   ]
  }
 ],
 "metadata": {
  "kernelspec": {
   "display_name": "torch",
   "language": "python",
   "name": "python3"
  },
  "language_info": {
   "codemirror_mode": {
    "name": "ipython",
    "version": 3
   },
   "file_extension": ".py",
   "mimetype": "text/x-python",
   "name": "python",
   "nbconvert_exporter": "python",
   "pygments_lexer": "ipython3",
   "version": "3.11.9"
  }
 },
 "nbformat": 4,
 "nbformat_minor": 2
}

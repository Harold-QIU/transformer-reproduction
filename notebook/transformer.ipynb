{
 "cells": [
  {
   "cell_type": "code",
   "execution_count": null,
   "metadata": {},
   "outputs": [],
   "source": [
    "import torch\n",
    "from torch import nn\n",
    "import math\n",
    "from utls import Encoder, Decoder"
   ]
  },
  {
   "cell_type": "code",
   "execution_count": null,
   "metadata": {},
   "outputs": [],
   "source": [
    "class Transformer(nn.Module):\n",
    "    def __init__(self,\n",
    "                 src_pad_idx,\n",
    "                 trg_pad_idx,\n",
    "                 enc_voc_size,\n",
    "                 dec_voc_size,\n",
    "                 embedding_dim,\n",
    "                 max_len,\n",
    "                 n_heads,\n",
    "                 ffn_hidden,\n",
    "                 n_layers,\n",
    "                 dropout,\n",
    "                 device):\n",
    "        super().__init__()\n",
    "        self.src_pad_idx = src_pad_idx\n",
    "        self.trg_pad_idx = trg_pad_idx\n",
    "        self.device = device\n",
    "        self.encoder = Encoder(\n",
    "            enc_voc_size,\n",
    "            embedding_dim,\n",
    "            max_len,\n",
    "            n_layers,\n",
    "            ffn_hidden,\n",
    "            n_heads,\n",
    "            dropout,\n",
    "            device\n",
    "        )\n",
    "        self.decoder = Decoder(\n",
    "            dec_voc_size,\n",
    "            embedding_dim,\n",
    "            max_len,\n",
    "            n_layers,\n",
    "            ffn_hidden,\n",
    "            n_heads,\n",
    "            dropout,\n",
    "            device\n",
    "        )\n",
    "    \n",
    "    def make_src_mask(self, src):\n",
    "        src_mask = (src != self.src_pad_idx).unsqueeze(1).unsqueeze(2).to(self.device)\n",
    "        return src_mask\n",
    "    \n",
    "    def make_trg_mask(self, trg):\n",
    "        trg_pad_mask = (trg != self.trg_pad_idx).unsqueeze(1).unsqueeze(3)\n",
    "        trg_len = trg.shape[1]\n",
    "        trg_sub_mask = torch.tril(torch.ones(trg_len, trg_len)).type(torch.ByteTensor).to(self.device)\n",
    "        trg_mask = trg_pad_mask & trg_sub_mask\n",
    "        return trg_mask\n",
    "    \n",
    "    def forward(self, src, trg):\n",
    "        src_mask = self.make_src_mask(src)\n",
    "        trg_mask = self.make_src_mask(trg)\n",
    "        enc_src = self.encoder(src, src_mask)\n",
    "        output = self.decoder(trg, enc_src, trg_mask, src_mask)\n",
    "        return output\n",
    "        "
   ]
  },
  {
   "cell_type": "code",
   "execution_count": null,
   "metadata": {},
   "outputs": [],
   "source": [
    "device='cuda:0'\n",
    "\n",
    "transformer = Transformer(\n",
    "    src_pad_idx=0,\n",
    "    trg_pad_idx=0,\n",
    "    enc_voc_size=5,\n",
    "    dec_voc_size=5,\n",
    "    embedding_dim=512,\n",
    "    max_len=8,\n",
    "    n_heads=8,\n",
    "    ffn_hidden=256,\n",
    "    n_layers=3,\n",
    "    dropout=0.1,\n",
    "    device='cuda:0'\n",
    ")"
   ]
  },
  {
   "cell_type": "code",
   "execution_count": null,
   "metadata": {},
   "outputs": [],
   "source": [
    "src = torch.tensor([[1, 2, 3, 4, 2, 3, 1, 1],\n",
    "                  [2, 3, 4, 1, 0, 0, 0, 0]])\n",
    "\n",
    "trg = torch.tensor([[1, 2, 3, 2, 0, 0, 0, 0], \n",
    "                    [1, 2, 3, 3, 0, 0, 0, 0]])\n",
    "\n",
    "trg = transformer(src.to(device), trg.to(device))"
   ]
  },
  {
   "cell_type": "code",
   "execution_count": null,
   "metadata": {},
   "outputs": [],
   "source": [
    "trg"
   ]
  }
 ],
 "metadata": {
  "kernelspec": {
   "display_name": "torch",
   "language": "python",
   "name": "python3"
  },
  "language_info": {
   "codemirror_mode": {
    "name": "ipython",
    "version": 3
   },
   "file_extension": ".py",
   "mimetype": "text/x-python",
   "name": "python",
   "nbconvert_exporter": "python",
   "pygments_lexer": "ipython3",
   "version": "3.11.9"
  }
 },
 "nbformat": 4,
 "nbformat_minor": 2
}

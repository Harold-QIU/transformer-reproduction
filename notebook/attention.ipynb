{
 "cells": [
  {
   "cell_type": "code",
   "execution_count": null,
   "metadata": {},
   "outputs": [],
   "source": [
    "import torch\n",
    "from torch import nn\n",
    "import math"
   ]
  },
  {
   "cell_type": "code",
   "execution_count": null,
   "metadata": {},
   "outputs": [],
   "source": [
    "class MultiHeadAttention(nn.Module):\n",
    "    def __init__(self, embedding_dim, n_head):\n",
    "        super().__init__()\n",
    "        self.n_head = n_head      \n",
    "        self.embeddimg_dim = embedding_dim\n",
    "        self.model_dim = self.embeddimg_dim // self.n_head\n",
    "        \n",
    "        assert (\n",
    "            self.model_dim * self.n_head == self.embeddimg_dim\n",
    "        ), \"Embedding size needs to be divisible by heads\"\n",
    "        \n",
    "        self.w_q = nn.Linear(embedding_dim, embedding_dim)\n",
    "        self.w_k = nn.Linear(embedding_dim, embedding_dim)\n",
    "        self.w_v = nn.Linear(embedding_dim, embedding_dim)\n",
    "        self.w_combine = nn.Linear(embedding_dim, embedding_dim)\n",
    "        self.softmax = nn.Softmax(dim=-1)\n",
    "        \n",
    "    def forward(self, q, k, v, mask=None): # ? Why don't we normalize q, k, v before use it\n",
    "        batch_size, seq_len, emb_dim = q.shape\n",
    "        q, k, v = self.w_q(q), self.w_k(k), self.w_v(v)\n",
    "        q = q.view(batch_size, seq_len, self.n_head, self.model_dim).permute(0, 2, 1, 3)\n",
    "        k = k.view(batch_size, seq_len, self.n_head, self.model_dim).permute(0, 2, 1, 3)\n",
    "        v = v.view(batch_size, seq_len, self.n_head, self.model_dim).permute(0, 2, 1, 3)\n",
    "        score = q @ k.transpose(2, 3) / math.sqrt(self.model_dim)\n",
    "        \n",
    "        if mask is not None:\n",
    "            score.masked_fill_(mask=mask, value=-math.inf)\n",
    "        \n",
    "        score = self.softmax(score) @ v\n",
    "        print(score.shape)\n",
    "        score = score.permute(0, 2, 1, 3).contiguous().view(batch_size, seq_len, emb_dim)  # When something goes wrong with permute, try contiguous and see what will happen\n",
    "        output = self.w_combine(score)\n",
    "        return output"
   ]
  },
  {
   "cell_type": "code",
   "execution_count": null,
   "metadata": {},
   "outputs": [],
   "source": [
    "x = torch.rand(128, 32, 512)\n",
    "w_q = nn.Linear(512, 10)\n",
    "w_q(x).shape"
   ]
  },
  {
   "cell_type": "code",
   "execution_count": null,
   "metadata": {},
   "outputs": [],
   "source": [
    "attn = MultiHeadAttention(512, 8)\n",
    "q = torch.rand(128, 32, 512)\n",
    "k = torch.rand(128, 32, 512)\n",
    "v = torch.rand(128, 32, 512)\n",
    "attn(q, k ,v).shape"
   ]
  }
 ],
 "metadata": {
  "kernelspec": {
   "display_name": "torch",
   "language": "python",
   "name": "python3"
  },
  "language_info": {
   "codemirror_mode": {
    "name": "ipython",
    "version": 3
   },
   "file_extension": ".py",
   "mimetype": "text/x-python",
   "name": "python",
   "nbconvert_exporter": "python",
   "pygments_lexer": "ipython3",
   "version": "3.11.9"
  }
 },
 "nbformat": 4,
 "nbformat_minor": 2
}
